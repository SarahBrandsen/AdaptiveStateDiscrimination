{
 "cells": [
  {
   "cell_type": "code",
   "execution_count": 1,
   "metadata": {
    "ExecuteTime": {
     "end_time": "2019-02-04T21:08:01.238162Z",
     "start_time": "2019-02-04T21:08:01.177226Z"
    }
   },
   "outputs": [],
   "source": [
    "%load_ext autoreload\n",
    "%autoreload 2"
   ]
  },
  {
   "cell_type": "code",
   "execution_count": 23,
   "metadata": {
    "ExecuteTime": {
     "end_time": "2019-02-04T21:34:29.803526Z",
     "start_time": "2019-02-04T21:34:29.783709Z"
    }
   },
   "outputs": [],
   "source": [
    "from quantum_DP import *"
   ]
  },
  {
   "cell_type": "markdown",
   "metadata": {},
   "source": [
    "## Locally Greedy"
   ]
  },
  {
   "cell_type": "code",
   "execution_count": 29,
   "metadata": {
    "ExecuteTime": {
     "end_time": "2019-02-04T21:40:16.018651Z",
     "start_time": "2019-02-04T21:40:08.109544Z"
    }
   },
   "outputs": [
    {
     "name": "stdout",
     "output_type": "stream",
     "text": [
      "System with 7 different qubits\n",
      "Depolarizing parameter g = 0.3\n",
      "Helstrom:\n",
      "    Global 0.923635\n",
      "    Local 0.903486\n",
      "Locally greedy:\n",
      "    Best order  0.911634\n",
      "    Worst order 0.832659\n"
     ]
    },
    {
     "data": {
      "application/vnd.jupyter.widget-view+json": {
       "model_id": "",
       "version_major": 2,
       "version_minor": 0
      },
      "text/plain": [
       "HBox(children=(IntProgress(value=0, max=1000), HTML(value='')))"
      ]
     },
     "metadata": {},
     "output_type": "display_data"
    },
    {
     "name": "stdout",
     "output_type": "stream",
     "text": [
      "\r",
      "probability of success is 0.907\n"
     ]
    }
   ],
   "source": [
    "N, g, q, Qp = 7, 0.3, 1/2, 100\n",
    "identical, use_CUDA = False, True\n",
    "device, cache = 'cuda:0' if use_CUDA else 'cpu', not use_CUDA\n",
    "rho_pos, rho_neg = generate_rhos(N, identical, g, dim=2, is_complex=False)\n",
    "\n",
    "kwargs = {\n",
    "    'N': N, 'rho_pos': rho_pos, 'rho_neg': rho_neg, 'interp_mode': 'linear',\n",
    "    'Qp': Qp, 'device': device, 'cache': cache\n",
    "}\n",
    "\n",
    "prob_succ_H = helstrom(q, rho_pos, rho_neg)\n",
    "\n",
    "Asp = Locally_Greedy_ParamSpace(N, rho_pos, rho_neg, Qp, device)\n",
    "LG_QDP = Quantum_DP(**kwargs, param_space=Asp)\n",
    "prob_succ_LG = LG_QDP.root.prob_success(q)\n",
    "\n",
    "if not identical:\n",
    "    print('System with {0} different qubits'.format(N))\n",
    "    print('Depolarizing parameter g = {0}'.format(g))\n",
    "    print('Helstrom:\\n    Global {0:.6f}\\n    Local {1:.6f}'.format(*prob_succ_H))\n",
    "    print('Locally greedy:\\n    Best order  {0:.6f}\\n    Worst order {1:.6f}'.format(\n",
    "        *prob_succ_LG))\n",
    "else:\n",
    "    print('System with {0} identical qubits'.format(N))\n",
    "    print('Depolarizing parameter g = {0}'.format(g))\n",
    "    print('Helstrom:\\n    Global {0:.6f}\\n    Local {1:.6f}'.format(*prob_succ_H))\n",
    "    print('Locally greedy   {0:.6f}'.format(*prob_succ_LG))\n",
    "\n",
    "simulate(LG_QDP, 1000, q);"
   ]
  },
  {
   "cell_type": "markdown",
   "metadata": {},
   "source": [
    "## Qubit Projective vs Qubit Extremal POVM"
   ]
  },
  {
   "cell_type": "code",
   "execution_count": 52,
   "metadata": {
    "ExecuteTime": {
     "end_time": "2019-02-04T22:00:20.009498Z",
     "start_time": "2019-02-04T22:00:14.689626Z"
    }
   },
   "outputs": [
    {
     "name": "stdout",
     "output_type": "stream",
     "text": [
      "System with 3 different qubits\n",
      "Depolarizing parameter g = 0.3\n",
      "Helstrom:\n",
      "    Global 0.883115\n",
      "    Local 0.877781\n",
      "Binary:\n",
      "    Best order  0.882135\n",
      "    Worst order 0.879437\n",
      "Binary_extremal:\n",
      "    Best order  0.882135\n",
      "    Worst order 0.879437\n"
     ]
    },
    {
     "data": {
      "application/vnd.jupyter.widget-view+json": {
       "model_id": "",
       "version_major": 2,
       "version_minor": 0
      },
      "text/plain": [
       "HBox(children=(IntProgress(value=0, max=1000), HTML(value='')))"
      ]
     },
     "metadata": {},
     "output_type": "display_data"
    },
    {
     "name": "stdout",
     "output_type": "stream",
     "text": [
      "probability of success is 0.897\n"
     ]
    },
    {
     "data": {
      "application/vnd.jupyter.widget-view+json": {
       "model_id": "",
       "version_major": 2,
       "version_minor": 0
      },
      "text/plain": [
       "HBox(children=(IntProgress(value=0, max=1000), HTML(value='')))"
      ]
     },
     "metadata": {},
     "output_type": "display_data"
    },
    {
     "name": "stdout",
     "output_type": "stream",
     "text": [
      "probability of success is 0.865\n"
     ]
    }
   ],
   "source": [
    "N, g, q, Qp = 3, 0.3, 1/2, 100\n",
    "identical, use_CUDA = False, True\n",
    "device, cache = 'cuda:0' if use_CUDA else 'cpu', not use_CUDA\n",
    "rho_pos, rho_neg = generate_rhos(N, identical, g, dim=2, is_complex=False)\n",
    "\n",
    "kwargs = {\n",
    "    'N': N, 'rho_pos': rho_pos, 'rho_neg': rho_neg, 'interp_mode': 'linear',\n",
    "    'Qp': Qp, 'device': device, 'cache': cache\n",
    "}\n",
    "\n",
    "prob_succ_H = helstrom(q, rho_pos, rho_neg)\n",
    "\n",
    "Asp = Qubit_Proj_ParamSpace(Qphi=16, device=device)\n",
    "Qb_QDP = Quantum_DP(**kwargs, param_space=Asp)\n",
    "prob_succ_B = Qb_QDP.root.prob_success(q)\n",
    "\n",
    "Asp_ext = Qubit_Extremal_POVM_ParamSpace(Qalpha=100, Qphi=32, device=device)\n",
    "Qb_QDP_ext = Quantum_DP(**kwargs, param_space=Asp_ext)\n",
    "prob_succ_B_ext = Qb_QDP_ext.root.prob_success(q)\n",
    "\n",
    "\n",
    "if not identical:\n",
    "    print('System with {0} different qubits'.format(N))\n",
    "    print('Depolarizing parameter g = {0}'.format(g))\n",
    "    print('Helstrom:\\n    Global {0:.6f}\\n    Local {1:.6f}'.format(*prob_succ_H))\n",
    "    print('Binary:\\n    Best order  {0:.6f}\\n    Worst order {1:.6f}'.format(\n",
    "        *prob_succ_B))\n",
    "    print('Binary_extremal:\\n    Best order  {0:.6f}\\n    Worst order {1:.6f}'.format(\n",
    "        *prob_succ_B_ext))\n",
    "else:\n",
    "    print('System with {0} identical qubits'.format(N))\n",
    "    print('Depolarizing parameter g = {0}'.format(g))\n",
    "    print('Helstrom:\\n    Global {0:.6f}\\n    Local {1:.6f}'.format(*prob_succ_H))\n",
    "    print('Binary   {0:.6f}'.format(*prob_succ_B))\n",
    "    print('Binary_extremal   {0:.6f}'.format(*prob_succ_B_ext)) \n",
    "    \n",
    "simulate(Qb_QDP, 1000, q);\n",
    "simulate(Qb_QDP_ext, 1000, q);"
   ]
  },
  {
   "cell_type": "markdown",
   "metadata": {},
   "source": [
    "## Qutrit Projective: ternary vs binary"
   ]
  },
  {
   "cell_type": "code",
   "execution_count": 55,
   "metadata": {
    "ExecuteTime": {
     "end_time": "2019-02-04T22:01:21.941600Z",
     "start_time": "2019-02-04T22:01:15.991573Z"
    }
   },
   "outputs": [
    {
     "name": "stdout",
     "output_type": "stream",
     "text": [
      "System with 3 different qubits\n",
      "Depolarizing parameter g = 0.3\n",
      "Helstrom:\n",
      "    Global 0.909285\n",
      "    Local 0.895788\n",
      "Ternary:\n",
      "    Best order  0.905928\n",
      "    Worst order 0.904136\n",
      "Binary:\n",
      "    Best order  0.899667\n",
      "    Worst order 0.898901\n"
     ]
    },
    {
     "data": {
      "application/vnd.jupyter.widget-view+json": {
       "model_id": "",
       "version_major": 2,
       "version_minor": 0
      },
      "text/plain": [
       "HBox(children=(IntProgress(value=0, max=1000), HTML(value='')))"
      ]
     },
     "metadata": {},
     "output_type": "display_data"
    },
    {
     "name": "stdout",
     "output_type": "stream",
     "text": [
      "probability of success is 0.917\n"
     ]
    },
    {
     "data": {
      "application/vnd.jupyter.widget-view+json": {
       "model_id": "",
       "version_major": 2,
       "version_minor": 0
      },
      "text/plain": [
       "HBox(children=(IntProgress(value=0, max=1000), HTML(value='')))"
      ]
     },
     "metadata": {},
     "output_type": "display_data"
    },
    {
     "name": "stdout",
     "output_type": "stream",
     "text": [
      "probability of success is 0.906\n"
     ]
    }
   ],
   "source": [
    "N, g, q, Qp = 3, 0.3, 1/2, 100\n",
    "identical, use_CUDA = False, True\n",
    "device, cache = 'cuda:0' if use_CUDA else 'cpu', not use_CUDA\n",
    "rho_pos, rho_neg = generate_rhos(N, identical, g, dim=3, is_complex=False)\n",
    "\n",
    "kwargs = {\n",
    "    'N': N, 'rho_pos': rho_pos, 'rho_neg': rho_neg, 'interp_mode': 'linear',\n",
    "    'Qp': Qp, 'device': device, 'cache': cache\n",
    "}\n",
    "\n",
    "prob_succ_H = helstrom(q, rho_pos, rho_neg)\n",
    "\n",
    "Asp3 = Qutrit_Proj_ParamSpace(d=[2, 2, 2], Q=32, mode='ternary', device=device)\n",
    "QQDP3 = Quantum_DP(**kwargs, param_space=Asp3)\n",
    "prob_succ_T = QQDP3.root.prob_success(q)\n",
    "\n",
    "Asp2 = Qutrit_Proj_ParamSpace(d=[2, 2, 2], Q=32, mode='binary', device=device)\n",
    "QQDP2 = Quantum_DP(**kwargs, param_space=Asp2)\n",
    "prob_succ_B = QQDP2.root.prob_success(q)\n",
    "\n",
    "if not identical:\n",
    "    print('System with {0} different qubits'.format(N))\n",
    "    print('Depolarizing parameter g = {0}'.format(g))\n",
    "    print('Helstrom:\\n    Global {0:.6f}\\n    Local {1:.6f}'.format(*prob_succ_H))\n",
    "    print('Ternary:\\n    Best order  {0:.6f}\\n    Worst order {1:.6f}'.format(*prob_succ_T))\n",
    "    print('Binary:\\n    Best order  {0:.6f}\\n    Worst order {1:.6f}'.format(*prob_succ_B))\n",
    "else:\n",
    "    print('System with {0} identical qubits'.format(N))\n",
    "    print('Depolarizing parameter g = {0}'.format(g))\n",
    "    print('Helstrom:\\n    Global {0:.6f}\\n    Local {1:.6f}'.format(*prob_succ_H))\n",
    "    print('Ternary  {0:.6f}'.format(*prob_succ_T))\n",
    "    print('Binary   {0:.6f}'.format(*prob_succ_B))\n",
    "    \n",
    "simulate(QQDP3, 1000, q);\n",
    "simulate(QQDP2, 1000, q);"
   ]
  },
  {
   "cell_type": "markdown",
   "metadata": {},
   "source": [
    "## Simulation Experiment over Parameter Grid"
   ]
  },
  {
   "cell_type": "code",
   "execution_count": 56,
   "metadata": {
    "ExecuteTime": {
     "end_time": "2019-02-04T22:01:33.696932Z",
     "start_time": "2019-02-04T22:01:33.485895Z"
    }
   },
   "outputs": [
    {
     "data": {
      "application/vnd.jupyter.widget-view+json": {
       "model_id": "de1af397c08743e8a3bb21980a759efc",
       "version_major": 2,
       "version_minor": 0
      },
      "text/plain": [
       "VBox()"
      ]
     },
     "metadata": {},
     "output_type": "display_data"
    }
   ],
   "source": [
    "param_grid = [('N', [3, 4, 5, 6]), ('g', [0.05, 0.1, 0.3])]\n",
    "num_trials = 110\n",
    "em = ExperimentManager('test.pickle', param_grid, num_trials)\n",
    "\n",
    "def simul_func(N, g):\n",
    "    q, Qp = 1/2, 100\n",
    "    identical, use_CUDA = True, True\n",
    "    device, cache = 'cuda:0' if use_CUDA else 'cpu', not use_CUDA\n",
    "    rho_pos, rho_neg = generate_rhos(N, identical, g, dim=2, is_complex=False)\n",
    "    kwargs = {\n",
    "        'N': N, 'rho_pos': rho_pos, 'rho_neg': rho_neg, 'interp_mode': 'linear',\n",
    "        'Qp': Qp, 'device': device, 'cache': cache\n",
    "    }\n",
    "    prob_succ_H = helstrom(q, rho_pos, rho_neg)\n",
    "    \n",
    "    Asp = Qubit_Proj_ParamSpace(Qphi=16, device=device)\n",
    "    Qb_QDP = Quantum_DP(**kwargs, param_space=Asp)\n",
    "    prob_succ_B = Qb_QDP.root.prob_success(q)\n",
    "\n",
    "    Asp_ext = Qubit_Extremal_POVM_ParamSpace(Qalpha=100, Qphi=32, device=device)\n",
    "    Qb_QDP_ext = Quantum_DP(**kwargs, param_space=Asp_ext)\n",
    "    prob_succ_B_ext = Qb_QDP_ext.root.prob_success(q)\n",
    "    return np.concatenate([prob_succ_H, prob_succ_B, prob_succ_B_ext])\n",
    "\n",
    "def callback(pbar, res):\n",
    "    pbar.set_postfix(n=len(res), mean=np.round(np.mean(res, axis=0), 2))\n",
    "    \n",
    "em.run(simul_func, callback)"
   ]
  },
  {
   "cell_type": "code",
   "execution_count": 57,
   "metadata": {
    "ExecuteTime": {
     "end_time": "2019-02-04T22:01:34.432446Z",
     "start_time": "2019-02-04T22:01:34.411829Z"
    }
   },
   "outputs": [
    {
     "name": "stdout",
     "output_type": "stream",
     "text": [
      "<xarray.DataArray (N: 4, g: 3)>\n",
      "array([[0.872582, 0.833651, 0.787764],\n",
      "       [0.868051, 0.890556, 0.802114],\n",
      "       [0.915819, 0.905438, 0.848057],\n",
      "       [0.919042, 0.900039, 0.854722]])\n",
      "Coordinates:\n",
      "  * N        (N) int64 3 4 5 6\n",
      "  * g        (g) float64 0.05 0.1 0.3\n",
      "<xarray.DataArray (N: 4, g: 3)>\n",
      "array([[0.86092 , 0.822887, 0.784093],\n",
      "       [0.835305, 0.861794, 0.784154],\n",
      "       [0.900974, 0.891893, 0.843092],\n",
      "       [0.892139, 0.876568, 0.838792]])\n",
      "Coordinates:\n",
      "  * N        (N) int64 3 4 5 6\n",
      "  * g        (g) float64 0.05 0.1 0.3\n",
      "<xarray.DataArray (N: 4, g: 3)>\n",
      "array([[0.867064, 0.824937, 0.783775],\n",
      "       [0.859225, 0.881642, 0.797745],\n",
      "       [0.90685 , 0.89514 , 0.842789],\n",
      "       [0.908431, 0.889596, 0.849018]])\n",
      "Coordinates:\n",
      "  * N        (N) int64 3 4 5 6\n",
      "  * g        (g) float64 0.05 0.1 0.3\n",
      "<xarray.DataArray (N: 4, g: 3)>\n",
      "array([[0.867167, 0.825152, 0.783776],\n",
      "       [0.859345, 0.881711, 0.797828],\n",
      "       [0.906945, 0.89518 , 0.842792],\n",
      "       [0.908513, 0.889634, 0.849056]])\n",
      "Coordinates:\n",
      "  * N        (N) int64 3 4 5 6\n",
      "  * g        (g) float64 0.05 0.1 0.3\n"
     ]
    }
   ],
   "source": [
    "hel_g, hel_l, qb, gb_ext = [em.export_xarray(lambda x: x[i]) for i in range(4)]\n",
    "for x in [hel_g, hel_l, qb, gb_ext]:\n",
    "    print(x.mean(axis=-1))"
   ]
  },
  {
   "cell_type": "code",
   "execution_count": null,
   "metadata": {},
   "outputs": [],
   "source": []
  }
 ],
 "metadata": {
  "hide_input": false,
  "kernelspec": {
   "display_name": "Python 3",
   "language": "python",
   "name": "python3"
  },
  "language_info": {
   "codemirror_mode": {
    "name": "ipython",
    "version": 3
   },
   "file_extension": ".py",
   "mimetype": "text/x-python",
   "name": "python",
   "nbconvert_exporter": "python",
   "pygments_lexer": "ipython3",
   "version": "3.6.7"
  },
  "toc": {
   "base_numbering": 1,
   "nav_menu": {},
   "number_sections": false,
   "sideBar": true,
   "skip_h1_title": false,
   "title_cell": "Table of Contents",
   "title_sidebar": "Contents",
   "toc_cell": false,
   "toc_position": {},
   "toc_section_display": true,
   "toc_window_display": false
  },
  "varInspector": {
   "cols": {
    "lenName": 16,
    "lenType": 16,
    "lenVar": 40
   },
   "kernels_config": {
    "python": {
     "delete_cmd_postfix": "",
     "delete_cmd_prefix": "del ",
     "library": "var_list.py",
     "varRefreshCmd": "print(var_dic_list())"
    },
    "r": {
     "delete_cmd_postfix": ") ",
     "delete_cmd_prefix": "rm(",
     "library": "var_list.r",
     "varRefreshCmd": "cat(var_dic_list()) "
    }
   },
   "types_to_exclude": [
    "module",
    "function",
    "builtin_function_or_method",
    "instance",
    "_Feature"
   ],
   "window_display": false
  }
 },
 "nbformat": 4,
 "nbformat_minor": 2
}
